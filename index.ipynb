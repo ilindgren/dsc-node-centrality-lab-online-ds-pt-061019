{
 "cells": [
  {
   "cell_type": "markdown",
   "metadata": {},
   "source": [
    "# Network Dynamics: Node Centrality - Lab\n",
    "\n",
    "## Introduction\n",
    "\n",
    "In this lab, you'll get a chance to practice implementing and interpreting the centrality metrics discussed in the previous lesson by investigating the social network from Game of Thrones!\n",
    "\n",
    "## Objectives\n",
    "You will be able to: \n",
    "- Compare and calculate degree, closeness, betweenness, and eigenvector centrality measures\n",
    "- Interpret characteristics of certain nodes based on their centrality metrics  "
   ]
  },
  {
   "cell_type": "markdown",
   "metadata": {
    "collapsed": true
   },
   "source": [
    "## Character Interaction Graph Data\n",
    "\n",
    "A. J. Beveridge and J. Shan created a network from George R. Martin's \"A song of ice and fire\" by extracting relationships between characters of the story. [The dataset is available at Github](https://github.com/mathbeveridge/asoiaf). Relationships between characters were formed every time a character's name appears within 15 words of another character. This was designed as an approximate metric for character's interactions with each other. The results of this simple analysis are quite profound and produce interesting visuals such as this graph:\n",
    "\n",
    "<img src=\"images/got.png\" width=800>\n",
    "\n",
    "With that, it's your turn to start investigating the most central characters!"
   ]
  },
  {
   "cell_type": "code",
   "execution_count": 1,
   "metadata": {},
   "outputs": [],
   "source": [
    "import pandas as pd\n",
    "import networkx as nx\n",
    "import matplotlib.pyplot as plt\n",
    "import seaborn as sns\n",
    "sns.set_style('darkgrid')\n",
    "import warnings\n",
    "warnings.filterwarnings('ignore')\n",
    "\n",
    "%matplotlib inline"
   ]
  },
  {
   "cell_type": "markdown",
   "metadata": {},
   "source": [
    "##  Load the dataset \n",
    "\n",
    "Start by loading the dataset as a pandas DataFrame. From this, you'll then create a network representation of the dataset using NetworkX. \n",
    "\n",
    "The dataset is stored in the file `'asoiaf-all-edges.csv'`."
   ]
  },
  {
   "cell_type": "code",
   "execution_count": 2,
   "metadata": {},
   "outputs": [
    {
     "data": {
      "text/html": [
       "<div>\n",
       "<style scoped>\n",
       "    .dataframe tbody tr th:only-of-type {\n",
       "        vertical-align: middle;\n",
       "    }\n",
       "\n",
       "    .dataframe tbody tr th {\n",
       "        vertical-align: top;\n",
       "    }\n",
       "\n",
       "    .dataframe thead th {\n",
       "        text-align: right;\n",
       "    }\n",
       "</style>\n",
       "<table border=\"1\" class=\"dataframe\">\n",
       "  <thead>\n",
       "    <tr style=\"text-align: right;\">\n",
       "      <th></th>\n",
       "      <th>Source</th>\n",
       "      <th>Target</th>\n",
       "      <th>Type</th>\n",
       "      <th>id</th>\n",
       "      <th>weight</th>\n",
       "    </tr>\n",
       "  </thead>\n",
       "  <tbody>\n",
       "    <tr>\n",
       "      <th>0</th>\n",
       "      <td>Addam-Marbrand</td>\n",
       "      <td>Brynden-Tully</td>\n",
       "      <td>Undirected</td>\n",
       "      <td>0</td>\n",
       "      <td>3</td>\n",
       "    </tr>\n",
       "    <tr>\n",
       "      <th>1</th>\n",
       "      <td>Addam-Marbrand</td>\n",
       "      <td>Cersei-Lannister</td>\n",
       "      <td>Undirected</td>\n",
       "      <td>1</td>\n",
       "      <td>3</td>\n",
       "    </tr>\n",
       "    <tr>\n",
       "      <th>2</th>\n",
       "      <td>Addam-Marbrand</td>\n",
       "      <td>Gyles-Rosby</td>\n",
       "      <td>Undirected</td>\n",
       "      <td>2</td>\n",
       "      <td>3</td>\n",
       "    </tr>\n",
       "    <tr>\n",
       "      <th>3</th>\n",
       "      <td>Addam-Marbrand</td>\n",
       "      <td>Jaime-Lannister</td>\n",
       "      <td>Undirected</td>\n",
       "      <td>3</td>\n",
       "      <td>14</td>\n",
       "    </tr>\n",
       "    <tr>\n",
       "      <th>4</th>\n",
       "      <td>Addam-Marbrand</td>\n",
       "      <td>Jalabhar-Xho</td>\n",
       "      <td>Undirected</td>\n",
       "      <td>4</td>\n",
       "      <td>3</td>\n",
       "    </tr>\n",
       "  </tbody>\n",
       "</table>\n",
       "</div>"
      ],
      "text/plain": [
       "           Source            Target        Type  id  weight\n",
       "0  Addam-Marbrand     Brynden-Tully  Undirected   0       3\n",
       "1  Addam-Marbrand  Cersei-Lannister  Undirected   1       3\n",
       "2  Addam-Marbrand       Gyles-Rosby  Undirected   2       3\n",
       "3  Addam-Marbrand   Jaime-Lannister  Undirected   3      14\n",
       "4  Addam-Marbrand      Jalabhar-Xho  Undirected   4       3"
      ]
     },
     "execution_count": 2,
     "metadata": {},
     "output_type": "execute_result"
    }
   ],
   "source": [
    "# Load edges into dataframes\n",
    "df = pd.read_csv('asoiaf-all-edges.csv')\n",
    "\n",
    "# Print the first five rows\n",
    "df.head(5)"
   ]
  },
  {
   "cell_type": "markdown",
   "metadata": {},
   "source": [
    "## Create a Graph\n",
    "\n",
    "- Instantiate an empty graph \n",
    "- Iterate through the data and create appropriate edges to the empty graph you instantiated above. Be sure to add the weight to each edge "
   ]
  },
  {
   "cell_type": "code",
   "execution_count": 3,
   "metadata": {},
   "outputs": [],
   "source": [
    "# Create an empty graph instance\n",
    "G = nx.Graph()\n",
    "\n",
    "# Read edge lists into dataframes\n",
    "for row in df.index:\n",
    "    source = df['Source'][row]\n",
    "    target = df['Target'][row]\n",
    "    weight = df['weight'][row]\n",
    "    G.add_edge(source, target, weight=weight)"
   ]
  },
  {
   "cell_type": "markdown",
   "metadata": {},
   "source": [
    "## Calculate Degree\n",
    "\n",
    "To start the investigation of the most central characters in the books, calculate the degree centrality for each character. Then create a bar graph of the top 10 characters according to degree centrality."
   ]
  },
  {
   "cell_type": "code",
   "execution_count": 5,
   "metadata": {},
   "outputs": [
    {
     "data": {
      "image/png": "[encoded data removed]",
      "text/plain": [
       "<Figure size 432x288 with 1 Axes>"
      ]
     },
     "metadata": {
      "needs_background": "light"
     },
     "output_type": "display_data"
    }
   ],
   "source": [
    "pd.DataFrame.from_dict(nx.degree_centrality(G), orient='index').sort_values(by=0, ascending=False).head(10).plot(kind='barh', color='#1cf0c7')\n",
    "plt.title('Top 10 Characters by Degree Centrality');"
   ]
  },
  {
   "cell_type": "markdown",
   "metadata": {},
   "source": [
    "## Closeness Centrality\n",
    "\n",
    "Repeat the above exercise for the top 10 characters according to closeness centrality."
   ]
  },
  {
   "cell_type": "code",
   "execution_count": 6,
   "metadata": {},
   "outputs": [
    {
     "data": {
      "image/png": "[encoded data removed]",
      "text/plain": [
       "<Figure size 432x288 with 1 Axes>"
      ]
     },
     "metadata": {
      "needs_background": "light"
     },
     "output_type": "display_data"
    }
   ],
   "source": [
    "pd.DataFrame.from_dict(nx.closeness_centrality(G), orient='index').sort_values(by=0, ascending=False).head(10).plot(kind='barh', color='#1cf0c7')\n",
    "plt.title('Top 10 Characters by Closeness Centrality');"
   ]
  },
  {
   "cell_type": "markdown",
   "metadata": {},
   "source": [
    "## Betweeness Centrality\n",
    "\n",
    "Repeat the process one more time for betweeness centrality."
   ]
  },
  {
   "cell_type": "code",
   "execution_count": 7,
   "metadata": {},
   "outputs": [
    {
     "data": {
      "image/png": "[encoded data removed]",
      "text/plain": [
       "<Figure size 432x288 with 1 Axes>"
      ]
     },
     "metadata": {
      "needs_background": "light"
     },
     "output_type": "display_data"
    }
   ],
   "source": [
    "pd.DataFrame.from_dict(nx.betweenness_centrality(G), orient='index').sort_values(by=0, ascending=False).head(10).plot(kind='barh', color='#1cf0c7')\n",
    "plt.title('Top 10 Characters by Betweeness Centrality');"
   ]
  },
  {
   "cell_type": "markdown",
   "metadata": {},
   "source": [
    "## Putting it All Together\n",
    "\n",
    "Great! Now put all of these metrics together along with eigenvector centrality. Combine all four metrics into a single dataframe for each character."
   ]
  },
  {
   "cell_type": "code",
   "execution_count": 8,
   "metadata": {},
   "outputs": [
    {
     "data": {
      "text/html": [
       "<div>\n",
       "<style scoped>\n",
       "    .dataframe tbody tr th:only-of-type {\n",
       "        vertical-align: middle;\n",
       "    }\n",
       "\n",
       "    .dataframe tbody tr th {\n",
       "        vertical-align: top;\n",
       "    }\n",
       "\n",
       "    .dataframe thead th {\n",
       "        text-align: right;\n",
       "    }\n",
       "</style>\n",
       "<table border=\"1\" class=\"dataframe\">\n",
       "  <thead>\n",
       "    <tr style=\"text-align: right;\">\n",
       "      <th></th>\n",
       "      <th>degrees</th>\n",
       "      <th>closeness</th>\n",
       "      <th>betweeness</th>\n",
       "      <th>eigs</th>\n",
       "    </tr>\n",
       "  </thead>\n",
       "  <tbody>\n",
       "    <tr>\n",
       "      <th>Tyrion-Lannister</th>\n",
       "      <td>0.153459</td>\n",
       "      <td>0.476333</td>\n",
       "      <td>0.162191</td>\n",
       "      <td>0.251558</td>\n",
       "    </tr>\n",
       "    <tr>\n",
       "      <th>Cersei-Lannister</th>\n",
       "      <td>0.122013</td>\n",
       "      <td>0.454545</td>\n",
       "      <td>0.088704</td>\n",
       "      <td>0.235771</td>\n",
       "    </tr>\n",
       "    <tr>\n",
       "      <th>Jaime-Lannister</th>\n",
       "      <td>0.127044</td>\n",
       "      <td>0.451961</td>\n",
       "      <td>0.100838</td>\n",
       "      <td>0.226339</td>\n",
       "    </tr>\n",
       "    <tr>\n",
       "      <th>Joffrey-Baratheon</th>\n",
       "      <td>0.086792</td>\n",
       "      <td>0.433952</td>\n",
       "      <td>0.031759</td>\n",
       "      <td>0.214376</td>\n",
       "    </tr>\n",
       "    <tr>\n",
       "      <th>Sansa-Stark</th>\n",
       "      <td>0.094340</td>\n",
       "      <td>0.433007</td>\n",
       "      <td>0.048691</td>\n",
       "      <td>0.205842</td>\n",
       "    </tr>\n",
       "  </tbody>\n",
       "</table>\n",
       "</div>"
      ],
      "text/plain": [
       "                    degrees  closeness  betweeness      eigs\n",
       "Tyrion-Lannister   0.153459   0.476333    0.162191  0.251558\n",
       "Cersei-Lannister   0.122013   0.454545    0.088704  0.235771\n",
       "Jaime-Lannister    0.127044   0.451961    0.100838  0.226339\n",
       "Joffrey-Baratheon  0.086792   0.433952    0.031759  0.214376\n",
       "Sansa-Stark        0.094340   0.433007    0.048691  0.205842"
      ]
     },
     "execution_count": 8,
     "metadata": {},
     "output_type": "execute_result"
    }
   ],
   "source": [
    "degrees = nx.degree_centrality(G)\n",
    "closeness = nx.closeness_centrality(G)\n",
    "betweeness = nx.betweenness_centrality(G)\n",
    "eigs = nx.eigenvector_centrality(G)\n",
    "centrality = pd.DataFrame([degrees, closeness, betweeness, eigs]).transpose()\n",
    "centrality.columns = ['degrees', 'closeness', 'betweeness', 'eigs']\n",
    "centrality = centrality.sort_values(by='eigs', ascending=False)\n",
    "centrality.head()"
   ]
  },
  {
   "cell_type": "markdown",
   "metadata": {},
   "source": [
    "## Identifying Key Players\n",
    "\n",
    "While centrality can tell us a lot, you've also begun to see how certain individuals may not be the most central characters, but can be pivotal in the flow of information from one community to another. In the previous lesson, such nodes were labeled as 'bridges' acting as the intermediaries between two clusters. Try and identify such characters from this dataset."
   ]
  },
  {
   "cell_type": "code",
   "execution_count": 9,
   "metadata": {},
   "outputs": [
    {
     "data": {
      "text/html": [
       "<div>\n",
       "<style scoped>\n",
       "    .dataframe tbody tr th:only-of-type {\n",
       "        vertical-align: middle;\n",
       "    }\n",
       "\n",
       "    .dataframe tbody tr th {\n",
       "        vertical-align: top;\n",
       "    }\n",
       "\n",
       "    .dataframe thead th {\n",
       "        text-align: right;\n",
       "    }\n",
       "</style>\n",
       "<table border=\"1\" class=\"dataframe\">\n",
       "  <thead>\n",
       "    <tr style=\"text-align: right;\">\n",
       "      <th></th>\n",
       "      <th>degrees</th>\n",
       "      <th>closeness</th>\n",
       "      <th>betweeness</th>\n",
       "      <th>eigs</th>\n",
       "      <th>bridge_proxy</th>\n",
       "    </tr>\n",
       "  </thead>\n",
       "  <tbody>\n",
       "    <tr>\n",
       "      <th>Aggar</th>\n",
       "      <td>0.005031</td>\n",
       "      <td>0.269036</td>\n",
       "      <td>0.007997</td>\n",
       "      <td>0.001665</td>\n",
       "      <td>1.589358</td>\n",
       "    </tr>\n",
       "    <tr>\n",
       "      <th>Alleras</th>\n",
       "      <td>0.010063</td>\n",
       "      <td>0.272915</td>\n",
       "      <td>0.014199</td>\n",
       "      <td>0.002928</td>\n",
       "      <td>1.411040</td>\n",
       "    </tr>\n",
       "    <tr>\n",
       "      <th>Theon-Greyjoy</th>\n",
       "      <td>0.083019</td>\n",
       "      <td>0.423323</td>\n",
       "      <td>0.111283</td>\n",
       "      <td>0.102481</td>\n",
       "      <td>1.340458</td>\n",
       "    </tr>\n",
       "    <tr>\n",
       "      <th>Jon-Snow</th>\n",
       "      <td>0.143396</td>\n",
       "      <td>0.445378</td>\n",
       "      <td>0.192120</td>\n",
       "      <td>0.144211</td>\n",
       "      <td>1.339782</td>\n",
       "    </tr>\n",
       "    <tr>\n",
       "      <th>Cutjack</th>\n",
       "      <td>0.003774</td>\n",
       "      <td>0.255135</td>\n",
       "      <td>0.005028</td>\n",
       "      <td>0.001404</td>\n",
       "      <td>1.332494</td>\n",
       "    </tr>\n",
       "    <tr>\n",
       "      <th>Red-Oarsman</th>\n",
       "      <td>0.003774</td>\n",
       "      <td>0.261255</td>\n",
       "      <td>0.005025</td>\n",
       "      <td>0.001042</td>\n",
       "      <td>1.331654</td>\n",
       "    </tr>\n",
       "    <tr>\n",
       "      <th>Daenerys-Targaryen</th>\n",
       "      <td>0.091824</td>\n",
       "      <td>0.383317</td>\n",
       "      <td>0.118418</td>\n",
       "      <td>0.063043</td>\n",
       "      <td>1.289621</td>\n",
       "    </tr>\n",
       "    <tr>\n",
       "      <th>Victarion-Greyjoy</th>\n",
       "      <td>0.030189</td>\n",
       "      <td>0.333753</td>\n",
       "      <td>0.036451</td>\n",
       "      <td>0.009395</td>\n",
       "      <td>1.207431</td>\n",
       "    </tr>\n",
       "    <tr>\n",
       "      <th>Pate-(novice)</th>\n",
       "      <td>0.008805</td>\n",
       "      <td>0.215097</td>\n",
       "      <td>0.010042</td>\n",
       "      <td>0.000175</td>\n",
       "      <td>1.140428</td>\n",
       "    </tr>\n",
       "    <tr>\n",
       "      <th>Tyrion-Lannister</th>\n",
       "      <td>0.153459</td>\n",
       "      <td>0.476333</td>\n",
       "      <td>0.162191</td>\n",
       "      <td>0.251558</td>\n",
       "      <td>1.056901</td>\n",
       "    </tr>\n",
       "  </tbody>\n",
       "</table>\n",
       "</div>"
      ],
      "text/plain": [
       "                     degrees  closeness  betweeness      eigs  bridge_proxy\n",
       "Aggar               0.005031   0.269036    0.007997  0.001665      1.589358\n",
       "Alleras             0.010063   0.272915    0.014199  0.002928      1.411040\n",
       "Theon-Greyjoy       0.083019   0.423323    0.111283  0.102481      1.340458\n",
       "Jon-Snow            0.143396   0.445378    0.192120  0.144211      1.339782\n",
       "Cutjack             0.003774   0.255135    0.005028  0.001404      1.332494\n",
       "Red-Oarsman         0.003774   0.261255    0.005025  0.001042      1.331654\n",
       "Daenerys-Targaryen  0.091824   0.383317    0.118418  0.063043      1.289621\n",
       "Victarion-Greyjoy   0.030189   0.333753    0.036451  0.009395      1.207431\n",
       "Pate-(novice)       0.008805   0.215097    0.010042  0.000175      1.140428\n",
       "Tyrion-Lannister    0.153459   0.476333    0.162191  0.251558      1.056901"
      ]
     },
     "execution_count": 9,
     "metadata": {},
     "output_type": "execute_result"
    }
   ],
   "source": [
    "centrality['bridge_proxy'] = centrality['betweeness'] / centrality.degrees\n",
    "centrality = centrality.sort_values(by='bridge_proxy', ascending=False)\n",
    "centrality.head(10)"
   ]
  },
  {
   "cell_type": "markdown",
   "metadata": {},
   "source": [
    "## Drawing the Graph\n",
    "\n",
    "To visualize all of these relationships, draw a graph of the network."
   ]
  },
  {
   "cell_type": "code",
   "execution_count": null,
   "metadata": {},
   "outputs": [],
   "source": [
    "edge_labels = labels = nx.get_edge_attributes(G, 'weight')\n",
    "plt.figure(figsize=(12,12))\n",
    "nx.draw(G, with_labels=True, pos=nx.spring_layout(G),\n",
    "        edge_labels=edge_labels, alpha=0.8, node_color='#1cf0c7', node_size=700);\n",
    "nx.draw_networkx_edge_labels(G,pos=nx.spring_layout(G),edge_labels=labels);"
   ]
  },
  {
   "cell_type": "markdown",
   "metadata": {},
   "source": [
    "## Subsetting the Graph\n",
    "\n",
    "As you can see, the above graph is undoubtedly noisy, making it difficult to discern any useful patterns. As such, reset the graph and only add edges whose weight is 75 or greater. From there, redraw the graph. To further help with the display, try using `nx.spring_layout(G)` for the position. To jazz it up, try and recolor those nodes which you identified as bridge or bottleneck nodes to communication."
   ]
  },
  {
   "cell_type": "code",
   "execution_count": null,
   "metadata": {},
   "outputs": [],
   "source": [
    "# Your code here"
   ]
  },
  {
   "cell_type": "markdown",
   "metadata": {},
   "source": [
    "## Summary \n",
    "\n",
    "In this lab, we looked at different centrality measures of the graph data for the ASIOF dataset. We also compared these measures to see how they correlate with each other. We also saw in practice, the difference between taking the weighted centrality measures and how it may effect the results. "
   ]
  }
 ],
 "metadata": {
  "kernelspec": {
   "display_name": "Python 3",
   "language": "python",
   "name": "python3"
  },
  "language_info": {
   "codemirror_mode": {
    "name": "ipython",
    "version": 3
   },
   "file_extension": ".py",
   "mimetype": "text/x-python",
   "name": "python",
   "nbconvert_exporter": "python",
   "pygments_lexer": "ipython3",
   "version": "3.7.3"
  },
  "toc": {
   "base_numbering": 1,
   "nav_menu": {},
   "number_sections": true,
   "sideBar": true,
   "skip_h1_title": false,
   "title_cell": "Table of Contents",
   "title_sidebar": "Contents",
   "toc_cell": false,
   "toc_position": {},
   "toc_section_display": true,
   "toc_window_display": false
  }
 },
 "nbformat": 4,
 "nbformat_minor": 2
}
